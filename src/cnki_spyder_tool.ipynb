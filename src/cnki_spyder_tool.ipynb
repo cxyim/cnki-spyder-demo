{
 "cells": [
  {
   "cell_type": "code",
   "execution_count": 1,
   "metadata": {},
   "outputs": [],
   "source": [
    "import requests\n",
    "from bs4 import BeautifulSoup\n",
    "from pprint import pprint as fprint"
   ]
  },
  {
   "cell_type": "code",
   "execution_count": 3,
   "metadata": {},
   "outputs": [],
   "source": [
    "def get_author_url_set(author_name):\n",
    "    cookies = {\"Ecp_ClientId\":\"8181230144300598948\",\"cnkiUserKey\":\"f7539957-65af-525e-faa1-06827035cf6a\",\"UM_distinctid\":\"168901af2db2e5-0f9d022615f7b4-b781636-1fa400-168901af2dda1b\",\"Ecp_IpLoginFail\":\"190131144.202.106.13\",\"SID\":\"110105\",\"CNZZDATA1257838113\":\"2120179519-1548925778-http%253A%252F%252Fsearch.cnki.net%252F%7C1548925778\",\"KEYWORD\":\"%E7%89%9B%E4%B8%BD%E6%85%A7\"}\n",
    "    headers = {\"Host\":\"yuanjian.cnki.net\",\"Proxy-Connection\":\"keep-alive\",\"Content-Length\":\"63\",\"Cache-Control\":\"max-age=0\",\"Origin\":\"http://yuanjian.cnki.net\",\"Upgrade-Insecure-Requests\":\"1\",\"DNT\":\"1\",\"Content-Type\":\"application/x-www-form-urlencoded\",\"User-Agent\":\"Mozilla/5.0 (Windows NT 10.0; Win64; x64) AppleWebKit/537.36 (KHTML, like Gecko) Chrome/71.0.3578.98 Safari/537.36\",\"Accept\":\"text/html,application/xhtml+xml,application/xml;q=0.9,image/webp,image/apng,*/*;q=0.8\",\"Referer\":\"http://yuanjian.cnki.net/\",\"Accept-Encoding\":\"gzip, deflate\",\"Accept-Language\":\"zh-CN,zh;q=0.9,en;q=0.8\"}\n",
    "    base_url = \"http://yuanjian.cnki.net/Search/Result\"\n",
    "    data = {\"searchType\":\"MulityTermsSearch\",\"Author\":author_name}\n",
    "    \n",
    "    try:\n",
    "        log_file = open(\"author_url_set_log.txt\",\"w\",encoding=\"utf-8\")\n",
    "    except:\n",
    "        print(\"can't open author_url_set_log.txt\")\n",
    "    \n",
    "    try:\n",
    "        r = requests.post(base_url,cookies = cookies,headers = headers,data = data)\n",
    "    except:\n",
    "        log_file.write(\"can't get http response of \"+author_name+\"\\n\")\n",
    "    \n",
    "    bs = BeautifulSoup(r.text)\n",
    "    res = bs.find_all(\"span\",{\"style\":\"color:red\"})\n",
    "    url_set = set()\n",
    "    for item in res:\n",
    "        url_set.add(item.parent[\"href\"])\n",
    "    return url_set          "
   ]
  },
  {
   "cell_type": "code",
   "execution_count": 7,
   "metadata": {},
   "outputs": [],
   "source": [
    "def get_author_url_set_test():\n",
    "    author_name = \"陈云鹏\"\n",
    "    fprint(get_author_url_set(author_name))"
   ]
  }
 ],
 "metadata": {
  "kernelspec": {
   "display_name": "Python 3",
   "language": "python",
   "name": "python3"
  },
  "language_info": {
   "codemirror_mode": {
    "name": "ipython",
    "version": 3
   },
   "file_extension": ".py",
   "mimetype": "text/x-python",
   "name": "python",
   "nbconvert_exporter": "python",
   "pygments_lexer": "ipython3",
   "version": "3.7.1"
  }
 },
 "nbformat": 4,
 "nbformat_minor": 2
}
