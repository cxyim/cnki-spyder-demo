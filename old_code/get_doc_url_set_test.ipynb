{
 "cells": [
  {
   "cell_type": "code",
   "execution_count": 5,
   "metadata": {},
   "outputs": [],
   "source": [
    "import requests\n",
    "from bs4 import BeautifulSoup\n",
    "from pprint import pprint as fprint"
   ]
  },
  {
   "cell_type": "code",
   "execution_count": 2,
   "metadata": {},
   "outputs": [],
   "source": [
    "auther_url = \"http://yuanjian.cnki.net/scholar/Result?AuthorFilter=39363873%3b25904869%3b&scholarName=%e7%89%9b%e4%b8%bd%e6%85%a7\";"
   ]
  },
  {
   "cell_type": "code",
   "execution_count": 8,
   "metadata": {},
   "outputs": [
    {
     "name": "stdout",
     "output_type": "stream",
     "text": [
      "{'http://www.cnki.com.cn/Article/CJFDTOTAL-TSQB201807022.htm',\n",
      " 'http://www.cnki.com.cn/Article/CJFDTOTAL-XDQB201806013.htm'}\n"
     ]
    }
   ],
   "source": [
    "r = requests.get(auther_url)\n",
    "bs = BeautifulSoup(r.text)\n",
    "res = bs.find_all(\"p\",{\"class\":\"tit clearfix\"})\n",
    "url_set = set()\n",
    "for item in res:\n",
    "    url_set.add(item.a[\"href\"])\n",
    "fprint(url_set)"
   ]
  }
 ],
 "metadata": {
  "kernelspec": {
   "display_name": "Python 3",
   "language": "python",
   "name": "python3"
  },
  "language_info": {
   "codemirror_mode": {
    "name": "ipython",
    "version": 3
   },
   "file_extension": ".py",
   "mimetype": "text/x-python",
   "name": "python",
   "nbconvert_exporter": "python",
   "pygments_lexer": "ipython3",
   "version": "3.7.1"
  }
 },
 "nbformat": 4,
 "nbformat_minor": 2
}
