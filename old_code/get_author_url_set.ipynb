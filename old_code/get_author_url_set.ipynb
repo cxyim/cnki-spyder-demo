{
 "cells": [
  {
   "cell_type": "code",
   "execution_count": 12,
   "metadata": {},
   "outputs": [],
   "source": [
    "import requests\n",
    "from bs4 import BeautifulSoup\n",
    "from pprint import pprint as fprint"
   ]
  },
  {
   "cell_type": "code",
   "execution_count": 2,
   "metadata": {},
   "outputs": [],
   "source": [
    "cookies = {\"Ecp_ClientId\":\"8181230144300598948\",\n",
    "\"cnkiUserKey\":\"f7539957-65af-525e-faa1-06827035cf6a\",\n",
    "\"UM_distinctid\":\"168901af2db2e5-0f9d022615f7b4-b781636-1fa400-168901af2dda1b\",\n",
    "\"Ecp_IpLoginFail\":\"190131144.202.106.13\",\n",
    "\"SID\":\"110105\",\n",
    "\"CNZZDATA1257838113\":\"2120179519-1548925778-http%253A%252F%252Fsearch.cnki.net%252F%7C1548925778\",\n",
    "\"KEYWORD\":\"%E7%89%9B%E4%B8%BD%E6%85%A7\"}\n",
    "headers = {\"Host\":\"yuanjian.cnki.net\",\n",
    "\"Proxy-Connection\":\"keep-alive\",\n",
    "\"Content-Length\":\"63\",\n",
    "\"Cache-Control\":\"max-age=0\",\n",
    "\"Origin\":\"http://yuanjian.cnki.net\",\n",
    "\"Upgrade-Insecure-Requests\":\"1\",\n",
    "\"DNT\":\"1\",\n",
    "\"Content-Type\":\"application/x-www-form-urlencoded\",\n",
    "\"User-Agent\":\"Mozilla/5.0 (Windows NT 10.0; Win64; x64) AppleWebKit/537.36 (KHTML, like Gecko) Chrome/71.0.3578.98 Safari/537.36\",\n",
    "\"Accept\":\"text/html,application/xhtml+xml,application/xml;q=0.9,image/webp,image/apng,*/*;q=0.8\",\n",
    "\"Referer\":\"http://yuanjian.cnki.net/\",\n",
    "\"Accept-Encoding\":\"gzip, deflate\",\n",
    "\"Accept-Language\":\"zh-CN,zh;q=0.9,en;q=0.8\"}\n",
    "base_url = \"http://yuanjian.cnki.net/Search/Result\""
   ]
  },
  {
   "cell_type": "code",
   "execution_count": 3,
   "metadata": {},
   "outputs": [],
   "source": [
    "data = {\"searchType\":\"MulityTermsSearch\",\"Author\":\"牛丽慧\"}"
   ]
  },
  {
   "cell_type": "code",
   "execution_count": 4,
   "metadata": {},
   "outputs": [],
   "source": [
    "r = requests.post(base_url,cookies = cookies,headers = headers,data = data)"
   ]
  },
  {
   "cell_type": "code",
   "execution_count": 13,
   "metadata": {},
   "outputs": [
    {
     "name": "stdout",
     "output_type": "stream",
     "text": [
      "{'http://yuanjian.cnki.net/scholar/Result?AuthorFilter=&scholarName=%e7%89%9b%e4%b8%bd%e6%85%a7',\n",
      " 'http://yuanjian.cnki.net/scholar/Result?AuthorFilter=08455153%3b29911245%3b&scholarName=%e7%89%9b%e4%b8%bd%e6%85%a7',\n",
      " 'http://yuanjian.cnki.net/scholar/Result?AuthorFilter=23732029%3b29911245%3b35228927%3b&scholarName=%e7%89%9b%e4%b8%bd%e6%85%a7',\n",
      " 'http://yuanjian.cnki.net/scholar/Result?AuthorFilter=29911245%3b&scholarName=%e7%89%9b%e4%b8%bd%e6%85%a7',\n",
      " 'http://yuanjian.cnki.net/scholar/Result?AuthorFilter=29911245%3b10812947%3b&scholarName=%e7%89%9b%e4%b8%bd%e6%85%a7',\n",
      " 'http://yuanjian.cnki.net/scholar/Result?AuthorFilter=31621588%3b&scholarName=%e7%89%9b%e4%b8%bd%e6%85%a7',\n",
      " 'http://yuanjian.cnki.net/scholar/Result?AuthorFilter=35003694%3b&scholarName=%e7%89%9b%e4%b8%bd%e6%85%a7',\n",
      " 'http://yuanjian.cnki.net/scholar/Result?AuthorFilter=39363873%3b&scholarName=%e7%89%9b%e4%b8%bd%e6%85%a7',\n",
      " 'http://yuanjian.cnki.net/scholar/Result?AuthorFilter=39363873%3b25904869%3b&scholarName=%e7%89%9b%e4%b8%bd%e6%85%a7'}\n"
     ]
    }
   ],
   "source": [
    "bs = BeautifulSoup(r.text)\n",
    "# print(bs.prettify())\n",
    "res = bs.find_all(\"span\",{\"style\":\"color:red\"})\n",
    "url_set = set()\n",
    "for item in res:\n",
    "    url_set.add(item.parent[\"href\"])\n",
    "fprint(url_set)\n"
   ]
  }
 ],
 "metadata": {
  "kernelspec": {
   "display_name": "Python 3",
   "language": "python",
   "name": "python3"
  },
  "language_info": {
   "codemirror_mode": {
    "name": "ipython",
    "version": 3
   },
   "file_extension": ".py",
   "mimetype": "text/x-python",
   "name": "python",
   "nbconvert_exporter": "python",
   "pygments_lexer": "ipython3",
   "version": "3.7.1"
  }
 },
 "nbformat": 4,
 "nbformat_minor": 2
}
